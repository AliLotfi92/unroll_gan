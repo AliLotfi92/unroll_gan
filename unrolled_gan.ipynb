{
 "cells": [
  {
   "cell_type": "code",
   "execution_count": 1,
   "metadata": {},
   "outputs": [],
   "source": [
    "%load_ext autoreload\n",
    "%autoreload 2"
   ]
  },
  {
   "cell_type": "code",
   "execution_count": 2,
   "metadata": {},
   "outputs": [],
   "source": [
    "import os\n",
    "import numpy as np\n",
    "import matplotlib.pyplot as plt\n",
    "import copy\n",
    "from tqdm import tqdm_notebook\n",
    "\n",
    "import torch\n",
    "import torch.nn as nn\n",
    "import torch.nn.functional as F\n",
    "import torch.optim as optim\n",
    "\n",
    "from mixture_gaussian import data_generator"
   ]
  },
  {
   "cell_type": "code",
   "execution_count": 3,
   "metadata": {},
   "outputs": [],
   "source": [
    "if torch.cuda.is_available():\n",
    "    cuda = True\n",
    "    os.environ['CUDA_VISIBLE_DEVICES'] = \"0\"\n",
    "else:\n",
    "    cuda = False"
   ]
  },
  {
   "cell_type": "code",
   "execution_count": 4,
   "metadata": {},
   "outputs": [],
   "source": [
    "dset = data_generator()"
   ]
  },
  {
   "cell_type": "code",
   "execution_count": 5,
   "metadata": {},
   "outputs": [
    {
     "data": {
      "image/png": "[encoded data removed]",
      "text/plain": [
       "<Figure size 432x288 with 1 Axes>"
      ]
     },
     "metadata": {},
     "output_type": "display_data"
    }
   ],
   "source": [
    "def plot(points, title):\n",
    "\n",
    "    plt.scatter(points[:, 0], points[:, 1], s=5, c='b', alpha=0.5)\n",
    "    plt.scatter(dset.centers[:, 0], dset.centers[:, 1], s=40, c='g', alpha=0.5)\n",
    "    plt.title(title)\n",
    "    plt.ylim(-3, 3)\n",
    "    plt.xlim(-3, 3)\n",
    "    plt.show()\n",
    "    plt.close()\n",
    "    \n",
    "sample_points = dset.sample(100)\n",
    "plot(sample_points, 'Sampled data points')"
   ]
  },
  {
   "cell_type": "code",
   "execution_count": 30,
   "metadata": {},
   "outputs": [],
   "source": [
    "# Model params\n",
    "z_dim = 256\n",
    "g_inp = z_dim\n",
    "g_hid = 128\n",
    "g_out = dset.size\n",
    "\n",
    "d_inp = g_out\n",
    "d_hid = 128\n",
    "d_out = 1\n",
    "\n",
    "minibatch_size = 512\n",
    "\n",
    "unrolled_steps = 5\n",
    "d_learning_rate = 1e-4 \n",
    "g_learning_rate = 1e-3\n",
    "optim_betas = (0.5, 0.999)\n",
    "num_iterations = 30000\n",
    "log_interval = 1000\n",
    "save_interval = 2000\n",
    "d_steps = 1  \n",
    "g_steps = 1"
   ]
  },
  {
   "cell_type": "code",
   "execution_count": 31,
   "metadata": {},
   "outputs": [],
   "source": [
    "def noise_sampler(N, z_dim):\n",
    "    return np.random.uniform(size=[N, z_dim]).astype('float32')"
   ]
  },
  {
   "cell_type": "code",
   "execution_count": 32,
   "metadata": {},
   "outputs": [],
   "source": [
    "###### MODELS: Generator model and discriminator model\n",
    "class Generator(nn.Module):\n",
    "    def __init__(self, input_size, hidden_size, output_size):\n",
    "        super(Generator, self).__init__()\n",
    "        self.map1 = nn.Linear(input_size, hidden_size)\n",
    "        self.map2 = nn.Linear(hidden_size, hidden_size)\n",
    "        self.map3 = nn.Linear(hidden_size, output_size)\n",
    "\n",
    "    def forward(self, x):\n",
    "        x = F.tanh(self.map1(x))\n",
    "        x = F.tanh(self.map2(x))\n",
    "        return self.map3(x)\n",
    "\n",
    "class Discriminator(nn.Module):\n",
    "    def __init__(self, input_size, hidden_size, output_size):\n",
    "        super(Discriminator, self).__init__()\n",
    "        self.map1 = nn.Linear(input_size, hidden_size)\n",
    "        self.map2 = nn.Linear(hidden_size, hidden_size)\n",
    "        self.map3 = nn.Linear(hidden_size, output_size)\n",
    "\n",
    "    def forward(self, x):\n",
    "        x = F.tanh(self.map1(x))\n",
    "        x = F.tanh(self.map2(x))\n",
    "        return F.sigmoid(self.map3(x))"
   ]
  },
  {
   "cell_type": "code",
   "execution_count": 33,
   "metadata": {},
   "outputs": [],
   "source": [
    "G = Generator(input_size=g_inp, hidden_size=g_hid, output_size=g_out)\n",
    "D = Discriminator(input_size=d_inp, hidden_size=d_hid, output_size=d_out)\n",
    "if cuda:\n",
    "    G = G.cuda()\n",
    "    D = D.cuda()\n",
    "criterion = nn.BCELoss()  # Binary cross entropy: http://pytorch.org/docs/nn.html#bceloss\n",
    "d_optimizer = optim.Adam(D.parameters(), lr=d_learning_rate, betas=optim_betas)\n",
    "g_optimizer = optim.Adam(G.parameters(), lr=g_learning_rate, betas=optim_betas)"
   ]
  },
  {
   "cell_type": "code",
   "execution_count": 34,
   "metadata": {},
   "outputs": [],
   "source": [
    "def d_loop():\n",
    "    # 1. Train D on real+fake\n",
    "    d_optimizer.zero_grad()\n",
    "\n",
    "    #  1A: Train D on real\n",
    "    d_real_data = torch.from_numpy(dset.sample(minibatch_size))\n",
    "    if cuda:\n",
    "        d_real_data = d_real_data.cuda()\n",
    "    d_real_decision = D(d_real_data)\n",
    "    target = torch.ones_like(d_real_decision)\n",
    "    if cuda:\n",
    "        target = target.cuda()\n",
    "    d_real_error = criterion(d_real_decision, target)  # ones = true\n",
    "\n",
    "    #  1B: Train D on fake\n",
    "    d_gen_input = torch.from_numpy(noise_sampler(minibatch_size, g_inp))\n",
    "    if cuda:\n",
    "        d_gen_input = d_gen_input.cuda()\n",
    "    with torch.no_grad():\n",
    "        d_fake_data = G(d_gen_input)\n",
    "    d_fake_decision = D(d_fake_data)\n",
    "    target = torch.zeros_like(d_fake_decision)\n",
    "    if cuda:\n",
    "        target = target.cuda()\n",
    "    d_fake_error = criterion(d_fake_decision, target)  # zeros = fake\n",
    "    \n",
    "    d_loss = d_real_error + d_fake_error\n",
    "    d_loss.backward()\n",
    "    d_optimizer.step()     # Only optimizes D's parameters; changes based on stored gradients from backward()\n",
    "    return d_real_error.cpu().item(), d_fake_error.cpu().item()"
   ]
  },
  {
   "cell_type": "code",
   "execution_count": 35,
   "metadata": {},
   "outputs": [],
   "source": [
    "def d_unrolled_loop(d_gen_input=None):\n",
    "    # 1. Train D on real+fake\n",
    "    d_optimizer.zero_grad()\n",
    "\n",
    "    #  1A: Train D on real\n",
    "    d_real_data = torch.from_numpy(dset.sample(minibatch_size))\n",
    "    if cuda:\n",
    "        d_real_data = d_real_data.cuda()\n",
    "    d_real_decision = D(d_real_data)\n",
    "    target = torch.ones_like(d_real_decision)\n",
    "    if cuda:\n",
    "        target = target.cuda()\n",
    "    d_real_error = criterion(d_real_decision, target)  # ones = true\n",
    "\n",
    "    #  1B: Train D on fake\n",
    "    if d_gen_input is None:\n",
    "        d_gen_input = torch.from_numpy(noise_sampler(minibatch_size, g_inp))\n",
    "    if cuda:\n",
    "        d_gen_input = d_gen_input.cuda()\n",
    "    \n",
    "    d_fake_data = G(d_gen_input)\n",
    "    d_fake_decision = D(d_fake_data)\n",
    "    target = torch.zeros_like(d_fake_decision)\n",
    "    if cuda:\n",
    "        target = target.cuda()\n",
    "    d_fake_error = criterion(d_fake_decision, target)  # zeros = fake\n",
    "    \n",
    "    d_loss = d_real_error + d_fake_error\n",
    "    d_loss.backward(create_graph=True)\n",
    "    d_optimizer.step()     # Only optimizes D's parameters; changes based on stored gradients from backward()\n",
    "    return d_real_error.cpu().item(), d_fake_error.cpu().item()"
   ]
  },
  {
   "cell_type": "code",
   "execution_count": 36,
   "metadata": {},
   "outputs": [],
   "source": [
    "def g_loop():\n",
    "    # 2. Train G on D's response (but DO NOT train D on these labels)\n",
    "    g_optimizer.zero_grad()\n",
    "\n",
    "    gen_input = torch.from_numpy(noise_sampler(minibatch_size, g_inp))\n",
    "    if cuda: \n",
    "        gen_input = gen_input.cuda()\n",
    "    if unrolled_steps > 0:\n",
    "        D_state_dict = D.state_dict()\n",
    "        d_optimizer_state_dict = d_optimizer.state_dict()\n",
    "        for i in range(unrolled_steps):\n",
    "            d_unrolled_loop(d_gen_input=gen_input)\n",
    "    \n",
    "    g_fake_data = G(gen_input)\n",
    "    dg_fake_decision = D(g_fake_data)\n",
    "    target = torch.ones_like(dg_fake_decision)\n",
    "    if cuda:\n",
    "        target = target.cuda()\n",
    "    g_error = criterion(dg_fake_decision, target)  # we want to fool, so pretend it's all genuine\n",
    "    g_error.backward()\n",
    "    g_optimizer.step()  # Only optimizes G's parameters\n",
    "    if unrolled_steps > 0:\n",
    "        D.load_state_dict(D_state_dict)\n",
    "        d_optimizer.load_state_dict(d_optimizer_state_dict)\n",
    "        \n",
    "    return g_error.cpu().item()"
   ]
  },
  {
   "cell_type": "code",
   "execution_count": 37,
   "metadata": {},
   "outputs": [],
   "source": [
    "def g_sample():\n",
    "    with torch.no_grad():\n",
    "        gen_input = torch.from_numpy(noise_sampler(minibatch_size, g_inp))\n",
    "        if cuda:\n",
    "            gen_input = gen_input.cuda()\n",
    "        g_fake_data = G(gen_input)\n",
    "    return g_fake_data.cpu().numpy()"
   ]
  },
  {
   "cell_type": "code",
   "execution_count": 38,
   "metadata": {},
   "outputs": [
    {
     "data": {
      "application/vnd.jupyter.widget-view+json": {
       "model_id": "737172f8c98642a7b1178e462555806f",
       "version_major": 2,
       "version_minor": 0
      },
      "text/plain": [
       "HBox(children=(IntProgress(value=0, max=30000), HTML(value='')))"
      ]
     },
     "metadata": {},
     "output_type": "display_data"
    },
    {
     "data": {
      "image/png": "[encoded data removed]",
      "text/plain": [
       "<Figure size 432x288 with 1 Axes>"
      ]
     },
     "metadata": {},
     "output_type": "display_data"
    },
    {
     "name": "stdout",
     "output_type": "stream",
     "text": [
      "0.7225549817085266 0.6443381309509277 0.7960852980613708\n"
     ]
    },
    {
     "data": {
      "image/png": "[encoded data removed]",
      "text/plain": [
       "<Figure size 432x288 with 1 Axes>"
      ]
     },
     "metadata": {},
     "output_type": "display_data"
    },
    {
     "name": "stdout",
     "output_type": "stream",
     "text": [
      "0.28023624420166016 0.12331590056419373 2.083709239959717\n"
     ]
    },
    {
     "ename": "KeyboardInterrupt",
     "evalue": "",
     "output_type": "error",
     "traceback": [
      "\u001b[0;31m---------------------------------------------------------------------------\u001b[0m",
      "\u001b[0;31mKeyboardInterrupt\u001b[0m                         Traceback (most recent call last)",
      "\u001b[0;32m<ipython-input-38-c77b20d24280>\u001b[0m in \u001b[0;36m<module>\u001b[0;34m()\u001b[0m\n\u001b[1;32m      9\u001b[0m     \u001b[0mg_infos\u001b[0m \u001b[0;34m=\u001b[0m \u001b[0;34m[\u001b[0m\u001b[0;34m]\u001b[0m\u001b[0;34m\u001b[0m\u001b[0m\n\u001b[1;32m     10\u001b[0m     \u001b[0;32mfor\u001b[0m \u001b[0mg_index\u001b[0m \u001b[0;32min\u001b[0m \u001b[0mrange\u001b[0m\u001b[0;34m(\u001b[0m\u001b[0mg_steps\u001b[0m\u001b[0;34m)\u001b[0m\u001b[0;34m:\u001b[0m\u001b[0;34m\u001b[0m\u001b[0m\n\u001b[0;32m---> 11\u001b[0;31m         \u001b[0mg_info\u001b[0m \u001b[0;34m=\u001b[0m \u001b[0mg_loop\u001b[0m\u001b[0;34m(\u001b[0m\u001b[0;34m)\u001b[0m\u001b[0;34m\u001b[0m\u001b[0m\n\u001b[0m\u001b[1;32m     12\u001b[0m         \u001b[0mg_infos\u001b[0m\u001b[0;34m.\u001b[0m\u001b[0mappend\u001b[0m\u001b[0;34m(\u001b[0m\u001b[0mg_info\u001b[0m\u001b[0;34m)\u001b[0m\u001b[0;34m\u001b[0m\u001b[0m\n\u001b[1;32m     13\u001b[0m     \u001b[0mg_infos\u001b[0m \u001b[0;34m=\u001b[0m \u001b[0mnp\u001b[0m\u001b[0;34m.\u001b[0m\u001b[0mmean\u001b[0m\u001b[0;34m(\u001b[0m\u001b[0mg_infos\u001b[0m\u001b[0;34m)\u001b[0m\u001b[0;34m\u001b[0m\u001b[0m\n",
      "\u001b[0;32m<ipython-input-36-f9e97cd49c8a>\u001b[0m in \u001b[0;36mg_loop\u001b[0;34m()\u001b[0m\n\u001b[1;32m     10\u001b[0m         \u001b[0md_optimizer_state_dict\u001b[0m \u001b[0;34m=\u001b[0m \u001b[0md_optimizer\u001b[0m\u001b[0;34m.\u001b[0m\u001b[0mstate_dict\u001b[0m\u001b[0;34m(\u001b[0m\u001b[0;34m)\u001b[0m\u001b[0;34m\u001b[0m\u001b[0m\n\u001b[1;32m     11\u001b[0m         \u001b[0;32mfor\u001b[0m \u001b[0mi\u001b[0m \u001b[0;32min\u001b[0m \u001b[0mrange\u001b[0m\u001b[0;34m(\u001b[0m\u001b[0munrolled_steps\u001b[0m\u001b[0;34m)\u001b[0m\u001b[0;34m:\u001b[0m\u001b[0;34m\u001b[0m\u001b[0m\n\u001b[0;32m---> 12\u001b[0;31m             \u001b[0md_unrolled_loop\u001b[0m\u001b[0;34m(\u001b[0m\u001b[0md_gen_input\u001b[0m\u001b[0;34m=\u001b[0m\u001b[0mgen_input\u001b[0m\u001b[0;34m)\u001b[0m\u001b[0;34m\u001b[0m\u001b[0m\n\u001b[0m\u001b[1;32m     13\u001b[0m \u001b[0;34m\u001b[0m\u001b[0m\n\u001b[1;32m     14\u001b[0m     \u001b[0mg_fake_data\u001b[0m \u001b[0;34m=\u001b[0m \u001b[0mG\u001b[0m\u001b[0;34m(\u001b[0m\u001b[0mgen_input\u001b[0m\u001b[0;34m)\u001b[0m\u001b[0;34m\u001b[0m\u001b[0m\n",
      "\u001b[0;32m<ipython-input-35-36437f5795e5>\u001b[0m in \u001b[0;36md_unrolled_loop\u001b[0;34m(d_gen_input)\u001b[0m\n\u001b[1;32m     27\u001b[0m \u001b[0;34m\u001b[0m\u001b[0m\n\u001b[1;32m     28\u001b[0m     \u001b[0md_loss\u001b[0m \u001b[0;34m=\u001b[0m \u001b[0md_real_error\u001b[0m \u001b[0;34m+\u001b[0m \u001b[0md_fake_error\u001b[0m\u001b[0;34m\u001b[0m\u001b[0m\n\u001b[0;32m---> 29\u001b[0;31m     \u001b[0md_loss\u001b[0m\u001b[0;34m.\u001b[0m\u001b[0mbackward\u001b[0m\u001b[0;34m(\u001b[0m\u001b[0mcreate_graph\u001b[0m\u001b[0;34m=\u001b[0m\u001b[0;32mTrue\u001b[0m\u001b[0;34m)\u001b[0m\u001b[0;34m\u001b[0m\u001b[0m\n\u001b[0m\u001b[1;32m     30\u001b[0m     \u001b[0md_optimizer\u001b[0m\u001b[0;34m.\u001b[0m\u001b[0mstep\u001b[0m\u001b[0;34m(\u001b[0m\u001b[0;34m)\u001b[0m     \u001b[0;31m# Only optimizes D's parameters; changes based on stored gradients from backward()\u001b[0m\u001b[0;34m\u001b[0m\u001b[0m\n\u001b[1;32m     31\u001b[0m     \u001b[0;32mreturn\u001b[0m \u001b[0md_real_error\u001b[0m\u001b[0;34m.\u001b[0m\u001b[0mcpu\u001b[0m\u001b[0;34m(\u001b[0m\u001b[0;34m)\u001b[0m\u001b[0;34m.\u001b[0m\u001b[0mitem\u001b[0m\u001b[0;34m(\u001b[0m\u001b[0;34m)\u001b[0m\u001b[0;34m,\u001b[0m \u001b[0md_fake_error\u001b[0m\u001b[0;34m.\u001b[0m\u001b[0mcpu\u001b[0m\u001b[0;34m(\u001b[0m\u001b[0;34m)\u001b[0m\u001b[0;34m.\u001b[0m\u001b[0mitem\u001b[0m\u001b[0;34m(\u001b[0m\u001b[0;34m)\u001b[0m\u001b[0;34m\u001b[0m\u001b[0m\n",
      "\u001b[0;32m~/torch/lib/python3.6/site-packages/torch/tensor.py\u001b[0m in \u001b[0;36mbackward\u001b[0;34m(self, gradient, retain_graph, create_graph)\u001b[0m\n\u001b[1;32m     91\u001b[0m                 \u001b[0mproducts\u001b[0m\u001b[0;34m.\u001b[0m \u001b[0mDefaults\u001b[0m \u001b[0mto\u001b[0m\u001b[0;31m \u001b[0m\u001b[0;31m`\u001b[0m\u001b[0;31m`\u001b[0m\u001b[0;32mFalse\u001b[0m\u001b[0;31m`\u001b[0m\u001b[0;31m`\u001b[0m\u001b[0;34m.\u001b[0m\u001b[0;34m\u001b[0m\u001b[0m\n\u001b[1;32m     92\u001b[0m         \"\"\"\n\u001b[0;32m---> 93\u001b[0;31m         \u001b[0mtorch\u001b[0m\u001b[0;34m.\u001b[0m\u001b[0mautograd\u001b[0m\u001b[0;34m.\u001b[0m\u001b[0mbackward\u001b[0m\u001b[0;34m(\u001b[0m\u001b[0mself\u001b[0m\u001b[0;34m,\u001b[0m \u001b[0mgradient\u001b[0m\u001b[0;34m,\u001b[0m \u001b[0mretain_graph\u001b[0m\u001b[0;34m,\u001b[0m \u001b[0mcreate_graph\u001b[0m\u001b[0;34m)\u001b[0m\u001b[0;34m\u001b[0m\u001b[0m\n\u001b[0m\u001b[1;32m     94\u001b[0m \u001b[0;34m\u001b[0m\u001b[0m\n\u001b[1;32m     95\u001b[0m     \u001b[0;32mdef\u001b[0m \u001b[0mregister_hook\u001b[0m\u001b[0;34m(\u001b[0m\u001b[0mself\u001b[0m\u001b[0;34m,\u001b[0m \u001b[0mhook\u001b[0m\u001b[0;34m)\u001b[0m\u001b[0;34m:\u001b[0m\u001b[0;34m\u001b[0m\u001b[0m\n",
      "\u001b[0;32m~/torch/lib/python3.6/site-packages/torch/autograd/__init__.py\u001b[0m in \u001b[0;36mbackward\u001b[0;34m(tensors, grad_tensors, retain_graph, create_graph, grad_variables)\u001b[0m\n\u001b[1;32m     87\u001b[0m     Variable._execution_engine.run_backward(\n\u001b[1;32m     88\u001b[0m         \u001b[0mtensors\u001b[0m\u001b[0;34m,\u001b[0m \u001b[0mgrad_tensors\u001b[0m\u001b[0;34m,\u001b[0m \u001b[0mretain_graph\u001b[0m\u001b[0;34m,\u001b[0m \u001b[0mcreate_graph\u001b[0m\u001b[0;34m,\u001b[0m\u001b[0;34m\u001b[0m\u001b[0m\n\u001b[0;32m---> 89\u001b[0;31m         allow_unreachable=True)  # allow_unreachable flag\n\u001b[0m\u001b[1;32m     90\u001b[0m \u001b[0;34m\u001b[0m\u001b[0m\n\u001b[1;32m     91\u001b[0m \u001b[0;34m\u001b[0m\u001b[0m\n",
      "\u001b[0;31mKeyboardInterrupt\u001b[0m: "
     ]
    }
   ],
   "source": [
    "for it in tqdm_notebook(range(num_iterations)):\n",
    "    d_infos = []\n",
    "    for d_index in range(d_steps):\n",
    "        d_info = d_loop()\n",
    "        d_infos.append(d_info)\n",
    "    d_infos = np.mean(d_infos, 0)\n",
    "    d_real_loss, d_fake_loss = d_infos\n",
    "    \n",
    "    g_infos = []\n",
    "    for g_index in range(g_steps):\n",
    "        g_info = g_loop()\n",
    "        g_infos.append(g_info)\n",
    "    g_infos = np.mean(g_infos)\n",
    "    g_loss = g_infos\n",
    "    \n",
    "    if it % log_interval == 0:\n",
    "        g_fake_data = g_sample()\n",
    "        plot(g_fake_data, title='Iteration {}'.format(it))\n",
    "        print(d_real_loss, d_fake_loss, g_loss)"
   ]
  },
  {
   "cell_type": "code",
   "execution_count": null,
   "metadata": {},
   "outputs": [],
   "source": []
  }
 ],
 "metadata": {
  "kernelspec": {
   "display_name": "Python 3",
   "language": "python",
   "name": "python3"
  },
  "language_info": {
   "codemirror_mode": {
    "name": "ipython",
    "version": 3
   },
   "file_extension": ".py",
   "mimetype": "text/x-python",
   "name": "python",
   "nbconvert_exporter": "python",
   "pygments_lexer": "ipython3",
   "version": "3.6.5"
  }
 },
 "nbformat": 4,
 "nbformat_minor": 2
}
